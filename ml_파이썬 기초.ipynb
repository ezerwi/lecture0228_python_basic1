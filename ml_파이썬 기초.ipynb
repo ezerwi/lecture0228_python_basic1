{
 "cells": [
  {
   "cell_type": "markdown",
   "metadata": {},
   "source": [
    "# MarkDown\n",
    "\n",
    "# 제목\n",
    "## 제목\n",
    "### 제목\n",
    "#### 제목\n",
    "\n",
    "- 내용\n",
    "- 내용\n",
    "- 내용"
   ]
  },
  {
   "cell_type": "code",
   "execution_count": 2,
   "metadata": {},
   "outputs": [
    {
     "name": "stdout",
     "output_type": "stream",
     "text": [
      "4가 있다\n"
     ]
    }
   ],
   "source": [
    "if 4 in [1, 2, 3, 4]:\n",
    "    print(\"4가 있다\")"
   ]
  },
  {
   "cell_type": "markdown",
   "metadata": {},
   "source": [
    "## 파이썬의 자료형\n",
    "### 리스트"
   ]
  },
  {
   "cell_type": "code",
   "execution_count": 6,
   "metadata": {},
   "outputs": [
    {
     "name": "stdout",
     "output_type": "stream",
     "text": [
      "[1, 2, 3, 4, 5]\n"
     ]
    }
   ],
   "source": [
    "list1 = [1, 2, 3, 4, 5]\n",
    "print (list1)"
   ]
  },
  {
   "cell_type": "code",
   "execution_count": 7,
   "metadata": {},
   "outputs": [
    {
     "name": "stdout",
     "output_type": "stream",
     "text": [
      "['a', 'b', 'c', 'd']\n"
     ]
    }
   ],
   "source": [
    "list2 = ['a', 'b', 'c', 'd']\n",
    "print(list2)"
   ]
  },
  {
   "cell_type": "code",
   "execution_count": 8,
   "metadata": {},
   "outputs": [
    {
     "name": "stdout",
     "output_type": "stream",
     "text": [
      "[1, 'a', 2, 'b', 3, 'c']\n"
     ]
    }
   ],
   "source": [
    "list3 = [1, 'a', 2, 'b', 3, 'c']\n",
    "print(list3)"
   ]
  },
  {
   "cell_type": "code",
   "execution_count": 9,
   "metadata": {},
   "outputs": [
    {
     "name": "stdout",
     "output_type": "stream",
     "text": [
      "[1, 2, 3, 4, 'a', 'b', 'c', [1, 2, 3], ['a', 'b', 'c']]\n"
     ]
    }
   ],
   "source": [
    "list4 = [1, 2, 3, 4, 'a', 'b', 'c', [1,2,3], ['a', 'b', 'c']]\n",
    "print(list4)"
   ]
  },
  {
   "cell_type": "code",
   "execution_count": 10,
   "metadata": {},
   "outputs": [
    {
     "name": "stdout",
     "output_type": "stream",
     "text": [
      "[6, 2, 3, 4, 5]\n"
     ]
    }
   ],
   "source": [
    "list1[0]= 6\n",
    "print(list1)"
   ]
  },
  {
   "cell_type": "code",
   "execution_count": 19,
   "metadata": {},
   "outputs": [
    {
     "name": "stdout",
     "output_type": "stream",
     "text": [
      "[1, 2, <function myfunc at 0x000001BE1BB269D8>]\n",
      "안녕하세요\n"
     ]
    }
   ],
   "source": [
    "def myfunc():\n",
    "    print('안녕하세요')\n",
    "list5 = [1, 2, myfunc]\n",
    "print(list5)\n",
    "list5[2]()"
   ]
  },
  {
   "cell_type": "markdown",
   "metadata": {},
   "source": [
    "### 리스트 수정, 변경, 삭제"
   ]
  },
  {
   "cell_type": "code",
   "execution_count": 30,
   "metadata": {},
   "outputs": [
    {
     "name": "stdout",
     "output_type": "stream",
     "text": [
      "[1, 2, 3]\n",
      "[1, 2, '수정']\n",
      "[1, '슬', '라', '이', '싱', '수정']\n",
      "[1, '수정']\n"
     ]
    }
   ],
   "source": [
    "배열 = [1, 2, 3]\n",
    "print(배열)\n",
    "배열[2] = '수정'\n",
    "print(배열)\n",
    "\n",
    "# 배열 Slicing\n",
    "배열[1:2] = ['슬', '라', '이', '싱']\n",
    "print(배열)\n",
    "\n",
    "# 배열 삭제\n",
    "del 배열[1:5]\n",
    "print(배열)"
   ]
  },
  {
   "cell_type": "code",
   "execution_count": 46,
   "metadata": {},
   "outputs": [
    {
     "name": "stdout",
     "output_type": "stream",
     "text": [
      "[15, 5, 6, 7]\n"
     ]
    }
   ],
   "source": [
    "a = [1,2,3,4,5,6,7,8,9]\n",
    "\n",
    "#  a=[15,5,6,7] 로 만들기\n",
    "\n",
    "a[0] = 15\n",
    "del a[1:4]\n",
    "del a[4:6]\n",
    "print(a)"
   ]
  },
  {
   "cell_type": "markdown",
   "metadata": {},
   "source": [
    "### 정렬 sort"
   ]
  },
  {
   "cell_type": "code",
   "execution_count": 62,
   "metadata": {},
   "outputs": [
    {
     "name": "stdout",
     "output_type": "stream",
     "text": [
      "[1, 2, 3, 4]\n",
      "['a', 'b', 'c']\n",
      "['라', '다', '가']\n",
      "['b', 'c', 'a']\n"
     ]
    },
    {
     "data": {
      "text/plain": [
       "['c', 'b', 'a']"
      ]
     },
     "execution_count": 62,
     "metadata": {},
     "output_type": "execute_result"
    }
   ],
   "source": [
    "b = [2,3,4,1]\n",
    "b.sort()\n",
    "print(b)\n",
    "\n",
    "c = ['a', 'c', 'b']\n",
    "c.sort()\n",
    "print(c)\n",
    "\n",
    "d = ['다', '가','라']\n",
    "d.sort(reverse=True)\n",
    "print(d)\n",
    "\n",
    "\n",
    "e = ['a', 'c', 'b']\n",
    "e.reverse()\n",
    "print(e)\n",
    "sorted(e, reverse=True)"
   ]
  },
  {
   "cell_type": "markdown",
   "metadata": {},
   "source": [
    "### index 값 반환"
   ]
  },
  {
   "cell_type": "code",
   "execution_count": 66,
   "metadata": {},
   "outputs": [
    {
     "name": "stdout",
     "output_type": "stream",
     "text": [
      "2\n"
     ]
    }
   ],
   "source": [
    "f = [1, 2, 3]\n",
    "print(f.index(3))"
   ]
  },
  {
   "cell_type": "code",
   "execution_count": null,
   "metadata": {},
   "outputs": [],
   "source": []
  }
 ],
 "metadata": {
  "kernelspec": {
   "display_name": "Python 3",
   "language": "python",
   "name": "python3"
  },
  "language_info": {
   "codemirror_mode": {
    "name": "ipython",
    "version": 3
   },
   "file_extension": ".py",
   "mimetype": "text/x-python",
   "name": "python",
   "nbconvert_exporter": "python",
   "pygments_lexer": "ipython3",
   "version": "3.7.6"
  }
 },
 "nbformat": 4,
 "nbformat_minor": 4
}
